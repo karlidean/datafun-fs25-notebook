{
 "cells": [
  {
   "cell_type": "markdown",
   "id": "c7308692",
   "metadata": {},
   "source": [
    "# This Jupyter Notebook covers lessons in chapter 7 of \"Intro to Python for Computer Science and Data Science: Learning to Program with AI, Big Data, and the Cloud\" by Harvey and Paul Dietel."
   ]
  },
  {
   "cell_type": "markdown",
   "id": "e8c792c1",
   "metadata": {},
   "source": [
    "## 7.2 Creating Arrays from Existing Data"
   ]
  },
  {
   "cell_type": "code",
   "execution_count": 29,
   "id": "dbcea342",
   "metadata": {},
   "outputs": [],
   "source": [
    "import numpy as np"
   ]
  },
  {
   "cell_type": "code",
   "execution_count": 30,
   "id": "5e8d2ce2",
   "metadata": {},
   "outputs": [],
   "source": [
    "numbers = np.array([2, 3, 5, 7, 11])"
   ]
  },
  {
   "cell_type": "code",
   "execution_count": 31,
   "id": "9a1842be",
   "metadata": {},
   "outputs": [
    {
     "data": {
      "text/plain": [
       "numpy.ndarray"
      ]
     },
     "execution_count": 31,
     "metadata": {},
     "output_type": "execute_result"
    }
   ],
   "source": [
    "type (numbers) # The array's type is an .ndarray"
   ]
  },
  {
   "cell_type": "code",
   "execution_count": 32,
   "id": "e1e182c5",
   "metadata": {},
   "outputs": [
    {
     "data": {
      "text/plain": [
       "array([ 2,  3,  5,  7, 11])"
      ]
     },
     "execution_count": 32,
     "metadata": {},
     "output_type": "execute_result"
    }
   ],
   "source": [
    "numbers # but, the array will always output as an array, not .ndarray, even though we ran this through Numpy!"
   ]
  },
  {
   "cell_type": "markdown",
   "id": "30bc8615",
   "metadata": {},
   "source": [
    "### Multidimensional Arguments"
   ]
  },
  {
   "cell_type": "code",
   "execution_count": 33,
   "id": "5a800d60",
   "metadata": {},
   "outputs": [
    {
     "data": {
      "text/plain": [
       "array([[1, 2, 3],\n",
       "       [4, 5, 6]])"
      ]
     },
     "execution_count": 33,
     "metadata": {},
     "output_type": "execute_result"
    }
   ],
   "source": [
    "np.array([[1, 2, 3], [4, 5, 6]]) # These are called multidimensional arguments, because there is more than 1 line of array\n",
    "\n",
    "# Numpy auto - formats arrays based on their number of dimensions, aligning the columns within each row. "
   ]
  },
  {
   "cell_type": "code",
   "execution_count": 34,
   "id": "11b917e4",
   "metadata": {},
   "outputs": [
    {
     "data": {
      "text/plain": [
       "array([ 2,  4,  6,  8, 10, 12, 14, 16, 18, 20])"
      ]
     },
     "execution_count": 34,
     "metadata": {},
     "output_type": "execute_result"
    }
   ],
   "source": [
    "np.array([x for x in range (2, 21, 2)])\n",
    "\n",
    "# This is a 1 dimensional array that counts from 2 to 21 by 2. As 21 is odd, it will not be counted."
   ]
  },
  {
   "cell_type": "code",
   "execution_count": 35,
   "id": "f9d620a0",
   "metadata": {},
   "outputs": [
    {
     "data": {
      "text/plain": [
       "array([[ 2,  4,  6,  8, 10],\n",
       "       [ 1,  3,  5,  7,  9]])"
      ]
     },
     "execution_count": 35,
     "metadata": {},
     "output_type": "execute_result"
    }
   ],
   "source": [
    "np.array([[2, 4, 6, 8, 10], [1, 3, 5, 7, 9]])"
   ]
  },
  {
   "cell_type": "markdown",
   "id": "6f68a81a",
   "metadata": {},
   "source": [
    "## 7.3 Array Attributes"
   ]
  },
  {
   "cell_type": "code",
   "execution_count": null,
   "id": "3833be27",
   "metadata": {},
   "outputs": [],
   "source": [
    "integers = np.array([[1, 2, 3], [4, 5, 6]])"
   ]
  },
  {
   "cell_type": "code",
   "execution_count": null,
   "id": "19d078ad",
   "metadata": {},
   "outputs": [
    {
     "data": {
      "text/plain": [
       "array([[1, 2, 3],\n",
       "       [4, 5, 6]])"
      ]
     },
     "execution_count": 21,
     "metadata": {},
     "output_type": "execute_result"
    }
   ],
   "source": [
    "integers"
   ]
  },
  {
   "cell_type": "code",
   "execution_count": null,
   "id": "8eaa57e2",
   "metadata": {},
   "outputs": [],
   "source": [
    "floats = np.array([0.0, 0.1, 0.2, 0.3, 0.4])"
   ]
  },
  {
   "cell_type": "code",
   "execution_count": null,
   "id": "ee840271",
   "metadata": {},
   "outputs": [
    {
     "data": {
      "text/plain": [
       "array([0. , 0.1, 0.2, 0.3, 0.4])"
      ]
     },
     "execution_count": 24,
     "metadata": {},
     "output_type": "execute_result"
    }
   ],
   "source": [
    "floats # Numpy will not show 0's to the right of the decimal point in floating point values."
   ]
  },
  {
   "cell_type": "markdown",
   "id": "1bbf348c",
   "metadata": {},
   "source": [
    "### Determining an Array's Element Type"
   ]
  },
  {
   "cell_type": "code",
   "execution_count": null,
   "id": "010b7118",
   "metadata": {},
   "outputs": [
    {
     "data": {
      "text/plain": [
       "dtype('int64')"
      ]
     },
     "execution_count": 27,
     "metadata": {},
     "output_type": "execute_result"
    }
   ],
   "source": [
    "integers.dtype # dtype will allow us to see an array's element type"
   ]
  },
  {
   "cell_type": "code",
   "execution_count": null,
   "id": "1e4c6114",
   "metadata": {},
   "outputs": [
    {
     "data": {
      "text/plain": [
       "dtype('float64')"
      ]
     },
     "execution_count": 26,
     "metadata": {},
     "output_type": "execute_result"
    }
   ],
   "source": [
    "floats.dtype"
   ]
  },
  {
   "cell_type": "markdown",
   "id": "62ac1cf3",
   "metadata": {},
   "source": [
    "There are other types of dtypes than 'whatever64'. This is just because Numpy is written in C programming language. Other common types include `bool` for booleans and `object` for anything that isn't numbers (like strings!)"
   ]
  },
  {
   "cell_type": "markdown",
   "id": "eb836898",
   "metadata": {},
   "source": [
    "### Determining an Array's Dimensions"
   ]
  },
  {
   "cell_type": "code",
   "execution_count": null,
   "id": "5c997cb1",
   "metadata": {},
   "outputs": [
    {
     "data": {
      "text/plain": [
       "2"
      ]
     },
     "execution_count": 42,
     "metadata": {},
     "output_type": "execute_result"
    }
   ],
   "source": [
    "integers.ndim\n",
    "\n",
    "# The .ndim function tells us how many dimensions are in an array"
   ]
  },
  {
   "cell_type": "code",
   "execution_count": 46,
   "id": "3912cb76",
   "metadata": {},
   "outputs": [
    {
     "data": {
      "text/plain": [
       "1"
      ]
     },
     "execution_count": 46,
     "metadata": {},
     "output_type": "execute_result"
    }
   ],
   "source": [
    "floats.ndim"
   ]
  },
  {
   "cell_type": "code",
   "execution_count": null,
   "id": "aa2a5935",
   "metadata": {},
   "outputs": [
    {
     "data": {
      "text/plain": [
       "(2, 3)"
      ]
     },
     "execution_count": 44,
     "metadata": {},
     "output_type": "execute_result"
    }
   ],
   "source": [
    "integers.shape\n",
    "\n",
    "# With the .shape function, it is telling us what the array looks like"
   ]
  },
  {
   "cell_type": "code",
   "execution_count": null,
   "id": "95bfdfbe",
   "metadata": {},
   "outputs": [],
   "source": [
    "# (2, 3) means 2 rows by 3 columns, containing 6 elements"
   ]
  },
  {
   "cell_type": "code",
   "execution_count": 48,
   "id": "6bdaddea",
   "metadata": {},
   "outputs": [
    {
     "data": {
      "text/plain": [
       "(5,)"
      ]
     },
     "execution_count": 48,
     "metadata": {},
     "output_type": "execute_result"
    }
   ],
   "source": [
    "floats.shape"
   ]
  },
  {
   "cell_type": "code",
   "execution_count": 49,
   "id": "730c66ec",
   "metadata": {},
   "outputs": [],
   "source": [
    "# .shape 's like this mean there is 1 element tuple, containing 5 elements. Remember, floats are 1 dimensional!"
   ]
  },
  {
   "cell_type": "markdown",
   "id": "d400ecc2",
   "metadata": {},
   "source": [
    "### Determining an Array's Number of Elements and Element Size"
   ]
  },
  {
   "cell_type": "code",
   "execution_count": 51,
   "id": "873f963c",
   "metadata": {},
   "outputs": [
    {
     "data": {
      "text/plain": [
       "6"
      ]
     },
     "execution_count": 51,
     "metadata": {},
     "output_type": "execute_result"
    }
   ],
   "source": [
    "integers.size\n",
    "\n",
    "# This tells us the number of bytes it takes to store each element"
   ]
  },
  {
   "cell_type": "code",
   "execution_count": 53,
   "id": "8149eb88",
   "metadata": {},
   "outputs": [
    {
     "data": {
      "text/plain": [
       "8"
      ]
     },
     "execution_count": 53,
     "metadata": {},
     "output_type": "execute_result"
    }
   ],
   "source": [
    "integers.itemsize \n",
    "\n",
    "# This number would be 4 if C compiler used 32 bit ints"
   ]
  },
  {
   "cell_type": "code",
   "execution_count": 54,
   "id": "e89214b0",
   "metadata": {},
   "outputs": [
    {
     "data": {
      "text/plain": [
       "5"
      ]
     },
     "execution_count": 54,
     "metadata": {},
     "output_type": "execute_result"
    }
   ],
   "source": [
    "floats.size"
   ]
  },
  {
   "cell_type": "code",
   "execution_count": 55,
   "id": "fd781f31",
   "metadata": {},
   "outputs": [
    {
     "data": {
      "text/plain": [
       "8"
      ]
     },
     "execution_count": 55,
     "metadata": {},
     "output_type": "execute_result"
    }
   ],
   "source": [
    "floats.itemsize"
   ]
  },
  {
   "cell_type": "markdown",
   "id": "1af6bc70",
   "metadata": {},
   "source": [
    "### Iterating Through a Multidimensional Array's Elements"
   ]
  },
  {
   "cell_type": "code",
   "execution_count": 57,
   "id": "c648f344",
   "metadata": {},
   "outputs": [
    {
     "name": "stdout",
     "output_type": "stream",
     "text": [
      "1  2  3  \n",
      "4  5  6  \n"
     ]
    }
   ],
   "source": [
    "for row in integers:\n",
    "    for column in row:\n",
    "        print(column, end='  ')\n",
    "    print()\n",
    "\n",
    "# This is an example of an external iteration. This means showing the contents of the array only with an explicit script."
   ]
  },
  {
   "cell_type": "code",
   "execution_count": 59,
   "id": "f539e788",
   "metadata": {},
   "outputs": [
    {
     "name": "stdout",
     "output_type": "stream",
     "text": [
      "1  2  3  4  5  6  "
     ]
    }
   ],
   "source": [
    "for i in integers.flat:\n",
    "    print(i, end='  ')\n",
    "\n",
    "# This is another example of external iteration. It is using the .flat script to pretend the array is only 1 dimension."
   ]
  },
  {
   "cell_type": "markdown",
   "id": "97ab55bd",
   "metadata": {},
   "source": [
    "## 7.4 Filling Arrays with Specific Values"
   ]
  },
  {
   "cell_type": "code",
   "execution_count": 61,
   "id": "b98c20de",
   "metadata": {},
   "outputs": [
    {
     "data": {
      "text/plain": [
       "array([0., 0., 0., 0., 0.])"
      ]
     },
     "execution_count": 61,
     "metadata": {},
     "output_type": "execute_result"
    }
   ],
   "source": [
    "np.zeros(5)\n",
    "\n",
    "# The zeros, ones, and full functions create arrays with 0s, 1s, or specified values. This can be customizable (later script). This script specifies our dimensions"
   ]
  },
  {
   "cell_type": "code",
   "execution_count": 63,
   "id": "55f20844",
   "metadata": {},
   "outputs": [
    {
     "data": {
      "text/plain": [
       "array([[1, 1, 1, 1],\n",
       "       [1, 1, 1, 1]])"
      ]
     },
     "execution_count": 63,
     "metadata": {},
     "output_type": "execute_result"
    }
   ],
   "source": [
    "np.ones((2, 4), dtype=int)\n",
    "\n",
    "# This array was generated with the ones function and created a 2x4 data array"
   ]
  },
  {
   "cell_type": "code",
   "execution_count": 66,
   "id": "0c7f72fe",
   "metadata": {},
   "outputs": [
    {
     "data": {
      "text/plain": [
       "array([[13, 13, 13, 13, 13],\n",
       "       [13, 13, 13, 13, 13],\n",
       "       [13, 13, 13, 13, 13]])"
      ]
     },
     "execution_count": 66,
     "metadata": {},
     "output_type": "execute_result"
    }
   ],
   "source": [
    "np.full((3, 5), 13)\n",
    "\n",
    "# This array was generated with the full function, creating a 3x5 data array of the number 13"
   ]
  },
  {
   "cell_type": "markdown",
   "id": "002c49d7",
   "metadata": {},
   "source": [
    "## 7.5 Creating Arrays from Ranges"
   ]
  },
  {
   "cell_type": "markdown",
   "id": "d51d42a9",
   "metadata": {},
   "source": [
    "### Creating Integer Ranges with arange"
   ]
  },
  {
   "cell_type": "code",
   "execution_count": 68,
   "id": "5a7d1c4e",
   "metadata": {},
   "outputs": [
    {
     "data": {
      "text/plain": [
       "array([0, 1, 2, 3, 4])"
      ]
     },
     "execution_count": 68,
     "metadata": {},
     "output_type": "execute_result"
    }
   ],
   "source": [
    "np.arange(5)\n",
    "\n",
    "# function arange creates an array based on number of elements"
   ]
  },
  {
   "cell_type": "code",
   "execution_count": 72,
   "id": "686d5016",
   "metadata": {},
   "outputs": [
    {
     "data": {
      "text/plain": [
       "array([5, 6, 7, 8, 9])"
      ]
     },
     "execution_count": 72,
     "metadata": {},
     "output_type": "execute_result"
    }
   ],
   "source": [
    "np.arange(5,10)\n",
    "\n",
    "# arange has a minimum and a maximum. It will show the lowest, but not touch the highest"
   ]
  },
  {
   "cell_type": "code",
   "execution_count": null,
   "id": "d9fb2617",
   "metadata": {},
   "outputs": [
    {
     "data": {
      "text/plain": [
       "array([10,  8,  6,  4,  2])"
      ]
     },
     "execution_count": 71,
     "metadata": {},
     "output_type": "execute_result"
    }
   ],
   "source": [
    "np.arange(10, 1, -2)\n",
    "\n",
    "# arange can also create a range backwards, counting back by whatever metric"
   ]
  },
  {
   "cell_type": "markdown",
   "id": "b850e798",
   "metadata": {},
   "source": [
    "### Creating Floating - Point Ranges with linspace"
   ]
  },
  {
   "cell_type": "code",
   "execution_count": 75,
   "id": "5fac01e8",
   "metadata": {},
   "outputs": [
    {
     "data": {
      "text/plain": [
       "array([0.  , 0.25, 0.5 , 0.75, 1.  ])"
      ]
     },
     "execution_count": 75,
     "metadata": {},
     "output_type": "execute_result"
    }
   ],
   "source": [
    "np.linspace(0.0, 1.0, num=5)\n",
    "\n",
    "# linspace function creates an evenly spaced array of however many elements defined in the num= portion"
   ]
  },
  {
   "cell_type": "markdown",
   "id": "32a3c804",
   "metadata": {},
   "source": [
    "### Reshaping an Array"
   ]
  },
  {
   "cell_type": "code",
   "execution_count": 79,
   "id": "2f0af6d4",
   "metadata": {},
   "outputs": [
    {
     "data": {
      "text/plain": [
       "array([[ 1,  2,  3,  4,  5],\n",
       "       [ 6,  7,  8,  9, 10],\n",
       "       [11, 12, 13, 14, 15],\n",
       "       [16, 17, 18, 19, 20]])"
      ]
     },
     "execution_count": 79,
     "metadata": {},
     "output_type": "execute_result"
    }
   ],
   "source": [
    "np.arange(1, 21).reshape(4, 5)\n",
    "\n",
    "# The reshape function can transform a 1D array to a multidimensional array. This function can transform any array shape to another, they just have to have the same # of elements!"
   ]
  },
  {
   "cell_type": "markdown",
   "id": "3b8542a9",
   "metadata": {},
   "source": [
    "### Displaying Large Arrays"
   ]
  },
  {
   "cell_type": "code",
   "execution_count": 82,
   "id": "98f6dd51",
   "metadata": {},
   "outputs": [
    {
     "data": {
      "text/plain": [
       "array([[     1,      2,      3, ...,  24998,  24999,  25000],\n",
       "       [ 25001,  25002,  25003, ...,  49998,  49999,  50000],\n",
       "       [ 50001,  50002,  50003, ...,  74998,  74999,  75000],\n",
       "       [ 75001,  75002,  75003, ...,  99998,  99999, 100000]],\n",
       "      shape=(4, 25000))"
      ]
     },
     "execution_count": 82,
     "metadata": {},
     "output_type": "execute_result"
    }
   ],
   "source": [
    "np.arange(1, 100001).reshape(4, 25000)\n",
    "\n",
    "# Elipses ... represent data not shown!"
   ]
  },
  {
   "cell_type": "code",
   "execution_count": 81,
   "id": "4586f7b4",
   "metadata": {},
   "outputs": [
    {
     "data": {
      "text/plain": [
       "array([[     1,      2,      3, ...,    998,    999,   1000],\n",
       "       [  1001,   1002,   1003, ...,   1998,   1999,   2000],\n",
       "       [  2001,   2002,   2003, ...,   2998,   2999,   3000],\n",
       "       ...,\n",
       "       [ 97001,  97002,  97003, ...,  97998,  97999,  98000],\n",
       "       [ 98001,  98002,  98003, ...,  98998,  98999,  99000],\n",
       "       [ 99001,  99002,  99003, ...,  99998,  99999, 100000]],\n",
       "      shape=(100, 1000))"
      ]
     },
     "execution_count": 81,
     "metadata": {},
     "output_type": "execute_result"
    }
   ],
   "source": [
    "np.arange(1, 100001).reshape(100, 1000)"
   ]
  },
  {
   "cell_type": "code",
   "execution_count": 83,
   "id": "cc6b2fc1",
   "metadata": {},
   "outputs": [
    {
     "data": {
      "text/plain": [
       "array([[ 2,  4,  6,  8, 10],\n",
       "       [12, 14, 16, 18, 20],\n",
       "       [22, 24, 26, 28, 30],\n",
       "       [32, 34, 36, 38, 40]])"
      ]
     },
     "execution_count": 83,
     "metadata": {},
     "output_type": "execute_result"
    }
   ],
   "source": [
    "np.arange(2, 41, 2).reshape(4, 5)"
   ]
  },
  {
   "cell_type": "code",
   "execution_count": 84,
   "id": "9b18b5f8",
   "metadata": {},
   "outputs": [],
   "source": [
    "import random"
   ]
  },
  {
   "cell_type": "markdown",
   "id": "34208aa2",
   "metadata": {},
   "source": [
    "## 7.6 List vs. Array Performance: Introducing %timeit"
   ]
  },
  {
   "cell_type": "markdown",
   "id": "5af736a7",
   "metadata": {},
   "source": [
    "### Timing the Creation of a List Containing Results of 6,000,000 Dice Rolls"
   ]
  },
  {
   "cell_type": "code",
   "execution_count": 86,
   "id": "fe46468a",
   "metadata": {},
   "outputs": [
    {
     "name": "stdout",
     "output_type": "stream",
     "text": [
      "2.54 s ± 110 ms per loop (mean ± std. dev. of 7 runs, 1 loop each)\n"
     ]
    }
   ],
   "source": [
    "%timeit rolls_list = \\\n",
    "    [random.randrange(1,7) for i in range(0, 6_000_000)]\n",
    "\n",
    "# This times how long the list function takes to roll a 6 sided dice 6 million times."
   ]
  },
  {
   "cell_type": "markdown",
   "id": "7c01ef7f",
   "metadata": {},
   "source": [
    "### Timing the Creation of an Array Containing the Results of 6,000,000 Dice Rolls"
   ]
  },
  {
   "cell_type": "code",
   "execution_count": 87,
   "id": "e646332c",
   "metadata": {},
   "outputs": [
    {
     "name": "stdout",
     "output_type": "stream",
     "text": [
      "66.2 ms ± 4.89 ms per loop (mean ± std. dev. of 7 runs, 10 loops each)\n"
     ]
    }
   ],
   "source": [
    "%timeit rolls_array = np.random.randint(1, 7, 6_000_000)\n",
    "\n",
    "# This times how long the array in Numpy takes to roll 6,000,000 6 sided dice"
   ]
  },
  {
   "cell_type": "markdown",
   "id": "43100494",
   "metadata": {},
   "source": [
    "### 60,000,000 and 600,000,000 Dice Rolls"
   ]
  },
  {
   "cell_type": "code",
   "execution_count": 88,
   "id": "5244d76c",
   "metadata": {},
   "outputs": [
    {
     "name": "stdout",
     "output_type": "stream",
     "text": [
      "677 ms ± 111 ms per loop (mean ± std. dev. of 7 runs, 1 loop each)\n"
     ]
    }
   ],
   "source": [
    "%timeit rolls_array = np.random.randint(1, 7, 60_000_000)\n",
    "\n",
    "# This times how long the array in Numpy takes to roll 60,000,000 6 sided dice"
   ]
  },
  {
   "cell_type": "code",
   "execution_count": 89,
   "id": "faa5c70e",
   "metadata": {},
   "outputs": [
    {
     "name": "stdout",
     "output_type": "stream",
     "text": [
      "6.8 s ± 564 ms per loop (mean ± std. dev. of 7 runs, 1 loop each)\n"
     ]
    }
   ],
   "source": [
    "%timeit rolls_array = np.random.randint(1, 7, 600_000_000)\n",
    "\n",
    "# This times how long the array in Numpy takes to roll 600,000,000 6 sided dice"
   ]
  },
  {
   "cell_type": "markdown",
   "id": "c73339d1",
   "metadata": {},
   "source": [
    "### Customizing the %timeit Iterations"
   ]
  },
  {
   "cell_type": "code",
   "execution_count": 91,
   "id": "7b317a60",
   "metadata": {},
   "outputs": [
    {
     "name": "stdout",
     "output_type": "stream",
     "text": [
      "82.9 ms ± 13.7 ms per loop (mean ± std. dev. of 2 runs, 3 loops each)\n"
     ]
    }
   ],
   "source": [
    "%timeit -n3 -r2 rolls_array = np.random.randint(1, 7, 6_000_000)\n",
    "\n",
    "# This is how we can customize the %timeit function. -n# is number of loops, -r# is number of runs"
   ]
  },
  {
   "cell_type": "code",
   "execution_count": 94,
   "id": "c6e9ec2a",
   "metadata": {},
   "outputs": [
    {
     "name": "stdout",
     "output_type": "stream",
     "text": [
      "631 ms ± 28.6 ms per loop (mean ± std. dev. of 7 runs, 1 loop each)\n"
     ]
    }
   ],
   "source": [
    "%timeit sum([x for x in range(10_000_000)])"
   ]
  },
  {
   "cell_type": "code",
   "execution_count": 96,
   "id": "c3c75ffe",
   "metadata": {},
   "outputs": [
    {
     "name": "stdout",
     "output_type": "stream",
     "text": [
      "27 ms ± 2.33 ms per loop (mean ± std. dev. of 7 runs, 10 loops each)\n"
     ]
    }
   ],
   "source": [
    "%timeit np.arange(10_000_000).sum()"
   ]
  },
  {
   "cell_type": "markdown",
   "id": "34874747",
   "metadata": {},
   "source": [
    "### Other IPython Magics\n",
    "`%load` to read code into IPython from a local file or URL\\\n",
    "`%save` to save snippets to a file\\\n",
    "`%run` to execute a `.py` file from IPython\\\n",
    "`%precision` to change the default floating point precision for IPython outputs\\\n",
    "`%cd` to change directories without having to exit IPython first\\\n",
    "`%edit` to launch an external editor - handy if you need to modify more complex snippets\\\n",
    "`%history` to view a list of all snippets and commands you've executed in the current IPython session"
   ]
  },
  {
   "cell_type": "markdown",
   "id": "d8dc1163",
   "metadata": {},
   "source": [
    "## Array Operators"
   ]
  },
  {
   "cell_type": "markdown",
   "id": "3393a931",
   "metadata": {},
   "source": [
    "### Arithmetic Operations with Arrays and Individual Numeric Values"
   ]
  },
  {
   "cell_type": "code",
   "execution_count": 97,
   "id": "006c5cf2",
   "metadata": {},
   "outputs": [],
   "source": [
    "numbers = np.arange(1, 6)"
   ]
  },
  {
   "cell_type": "code",
   "execution_count": 98,
   "id": "a053c610",
   "metadata": {},
   "outputs": [
    {
     "data": {
      "text/plain": [
       "array([1, 2, 3, 4, 5])"
      ]
     },
     "execution_count": 98,
     "metadata": {},
     "output_type": "execute_result"
    }
   ],
   "source": [
    "numbers"
   ]
  },
  {
   "cell_type": "code",
   "execution_count": 99,
   "id": "b07d7cf4",
   "metadata": {},
   "outputs": [
    {
     "data": {
      "text/plain": [
       "array([ 2,  4,  6,  8, 10])"
      ]
     },
     "execution_count": 99,
     "metadata": {},
     "output_type": "execute_result"
    }
   ],
   "source": [
    "numbers * 2"
   ]
  },
  {
   "cell_type": "code",
   "execution_count": 100,
   "id": "893bd302",
   "metadata": {},
   "outputs": [
    {
     "data": {
      "text/plain": [
       "array([  1,   8,  27,  64, 125])"
      ]
     },
     "execution_count": 100,
     "metadata": {},
     "output_type": "execute_result"
    }
   ],
   "source": [
    "numbers ** 3"
   ]
  },
  {
   "cell_type": "code",
   "execution_count": 101,
   "id": "c77d0d4e",
   "metadata": {},
   "outputs": [
    {
     "data": {
      "text/plain": [
       "array([1, 2, 3, 4, 5])"
      ]
     },
     "execution_count": 101,
     "metadata": {},
     "output_type": "execute_result"
    }
   ],
   "source": [
    "numbers # numbers is unchanged by arithmetic operators"
   ]
  },
  {
   "cell_type": "code",
   "execution_count": 102,
   "id": "af027652",
   "metadata": {},
   "outputs": [],
   "source": [
    "numbers += 10"
   ]
  },
  {
   "cell_type": "code",
   "execution_count": 103,
   "id": "18cd654c",
   "metadata": {},
   "outputs": [
    {
     "data": {
      "text/plain": [
       "array([11, 12, 13, 14, 15])"
      ]
     },
     "execution_count": 103,
     "metadata": {},
     "output_type": "execute_result"
    }
   ],
   "source": [
    "numbers"
   ]
  },
  {
   "cell_type": "markdown",
   "id": "40d20c9c",
   "metadata": {},
   "source": [
    "### Arithmetic Operations Between Arrays"
   ]
  },
  {
   "cell_type": "code",
   "execution_count": 105,
   "id": "9e106601",
   "metadata": {},
   "outputs": [],
   "source": [
    "numbers2 = np.linspace(1.1, 5.5, 5)"
   ]
  },
  {
   "cell_type": "code",
   "execution_count": 106,
   "id": "f4a40d9a",
   "metadata": {},
   "outputs": [
    {
     "data": {
      "text/plain": [
       "array([1.1, 2.2, 3.3, 4.4, 5.5])"
      ]
     },
     "execution_count": 106,
     "metadata": {},
     "output_type": "execute_result"
    }
   ],
   "source": [
    "numbers2"
   ]
  },
  {
   "cell_type": "code",
   "execution_count": 107,
   "id": "75bae817",
   "metadata": {},
   "outputs": [
    {
     "data": {
      "text/plain": [
       "array([12.1, 26.4, 42.9, 61.6, 82.5])"
      ]
     },
     "execution_count": 107,
     "metadata": {},
     "output_type": "execute_result"
    }
   ],
   "source": [
    "numbers * numbers2"
   ]
  },
  {
   "cell_type": "markdown",
   "id": "0a5b6d6b",
   "metadata": {},
   "source": [
    "### Comparing Arrays"
   ]
  },
  {
   "cell_type": "code",
   "execution_count": 108,
   "id": "5ea380df",
   "metadata": {},
   "outputs": [
    {
     "data": {
      "text/plain": [
       "array([11, 12, 13, 14, 15])"
      ]
     },
     "execution_count": 108,
     "metadata": {},
     "output_type": "execute_result"
    }
   ],
   "source": [
    "numbers"
   ]
  },
  {
   "cell_type": "code",
   "execution_count": 109,
   "id": "653db426",
   "metadata": {},
   "outputs": [
    {
     "data": {
      "text/plain": [
       "array([False, False,  True,  True,  True])"
      ]
     },
     "execution_count": 109,
     "metadata": {},
     "output_type": "execute_result"
    }
   ],
   "source": [
    "numbers >=13"
   ]
  },
  {
   "cell_type": "code",
   "execution_count": 110,
   "id": "0dd25e47",
   "metadata": {},
   "outputs": [
    {
     "data": {
      "text/plain": [
       "array([1.1, 2.2, 3.3, 4.4, 5.5])"
      ]
     },
     "execution_count": 110,
     "metadata": {},
     "output_type": "execute_result"
    }
   ],
   "source": [
    "numbers2"
   ]
  },
  {
   "cell_type": "code",
   "execution_count": 111,
   "id": "eed9d5dc",
   "metadata": {},
   "outputs": [
    {
     "data": {
      "text/plain": [
       "array([ True,  True,  True,  True,  True])"
      ]
     },
     "execution_count": 111,
     "metadata": {},
     "output_type": "execute_result"
    }
   ],
   "source": [
    "numbers2 < numbers"
   ]
  },
  {
   "cell_type": "code",
   "execution_count": 113,
   "id": "e711221f",
   "metadata": {},
   "outputs": [
    {
     "data": {
      "text/plain": [
       "array([False, False, False, False, False])"
      ]
     },
     "execution_count": 113,
     "metadata": {},
     "output_type": "execute_result"
    }
   ],
   "source": [
    "numbers == numbers2"
   ]
  },
  {
   "cell_type": "code",
   "execution_count": 114,
   "id": "b8de82cc",
   "metadata": {},
   "outputs": [
    {
     "data": {
      "text/plain": [
       "array([ True,  True,  True,  True,  True])"
      ]
     },
     "execution_count": 114,
     "metadata": {},
     "output_type": "execute_result"
    }
   ],
   "source": [
    "numbers == numbers"
   ]
  },
  {
   "cell_type": "code",
   "execution_count": 117,
   "id": "6780ed4e",
   "metadata": {},
   "outputs": [
    {
     "data": {
      "text/plain": [
       "array([ 1,  4,  9, 16, 25])"
      ]
     },
     "execution_count": 117,
     "metadata": {},
     "output_type": "execute_result"
    }
   ],
   "source": [
    "np.arange(1, 6) ** 2"
   ]
  },
  {
   "cell_type": "markdown",
   "id": "b0586d6f",
   "metadata": {},
   "source": [
    "## 7.8 Numpy Calculation Methods"
   ]
  },
  {
   "cell_type": "code",
   "execution_count": 118,
   "id": "642a71fd",
   "metadata": {},
   "outputs": [],
   "source": [
    "grades = np.array([[87, 96, 70], [100, 87, 90], [94, 77, 90], [100, 81, 82]])"
   ]
  },
  {
   "cell_type": "code",
   "execution_count": 119,
   "id": "44712752",
   "metadata": {},
   "outputs": [
    {
     "data": {
      "text/plain": [
       "array([[ 87,  96,  70],\n",
       "       [100,  87,  90],\n",
       "       [ 94,  77,  90],\n",
       "       [100,  81,  82]])"
      ]
     },
     "execution_count": 119,
     "metadata": {},
     "output_type": "execute_result"
    }
   ],
   "source": [
    "grades"
   ]
  },
  {
   "cell_type": "code",
   "execution_count": 120,
   "id": "f5fb41eb",
   "metadata": {},
   "outputs": [
    {
     "data": {
      "text/plain": [
       "np.int64(1054)"
      ]
     },
     "execution_count": 120,
     "metadata": {},
     "output_type": "execute_result"
    }
   ],
   "source": [
    "grades.sum()"
   ]
  },
  {
   "cell_type": "code",
   "execution_count": 121,
   "id": "1302eeb1",
   "metadata": {},
   "outputs": [
    {
     "data": {
      "text/plain": [
       "np.int64(70)"
      ]
     },
     "execution_count": 121,
     "metadata": {},
     "output_type": "execute_result"
    }
   ],
   "source": [
    "grades.min()"
   ]
  },
  {
   "cell_type": "code",
   "execution_count": 122,
   "id": "35ef751b",
   "metadata": {},
   "outputs": [
    {
     "data": {
      "text/plain": [
       "np.float64(87.83333333333333)"
      ]
     },
     "execution_count": 122,
     "metadata": {},
     "output_type": "execute_result"
    }
   ],
   "source": [
    "grades.mean()"
   ]
  },
  {
   "cell_type": "code",
   "execution_count": 123,
   "id": "99458dda",
   "metadata": {},
   "outputs": [
    {
     "data": {
      "text/plain": [
       "np.float64(8.792357792739987)"
      ]
     },
     "execution_count": 123,
     "metadata": {},
     "output_type": "execute_result"
    }
   ],
   "source": [
    "grades.std()"
   ]
  },
  {
   "cell_type": "code",
   "execution_count": 124,
   "id": "14e60bdf",
   "metadata": {},
   "outputs": [
    {
     "data": {
      "text/plain": [
       "np.float64(77.30555555555556)"
      ]
     },
     "execution_count": 124,
     "metadata": {},
     "output_type": "execute_result"
    }
   ],
   "source": [
    "grades.var()"
   ]
  },
  {
   "cell_type": "markdown",
   "id": "f82c3d9d",
   "metadata": {},
   "source": [
    "### Calculations by Row or Column"
   ]
  },
  {
   "cell_type": "code",
   "execution_count": 125,
   "id": "ff7bce4b",
   "metadata": {},
   "outputs": [
    {
     "data": {
      "text/plain": [
       "array([95.25, 85.25, 83.  ])"
      ]
     },
     "execution_count": 125,
     "metadata": {},
     "output_type": "execute_result"
    }
   ],
   "source": [
    "grades.mean(axis=0)"
   ]
  },
  {
   "cell_type": "code",
   "execution_count": 126,
   "id": "d1fbb81f",
   "metadata": {},
   "outputs": [
    {
     "data": {
      "text/plain": [
       "array([84.33333333, 92.33333333, 87.        , 87.66666667])"
      ]
     },
     "execution_count": 126,
     "metadata": {},
     "output_type": "execute_result"
    }
   ],
   "source": [
    "grades.mean(axis=1)"
   ]
  },
  {
   "cell_type": "code",
   "execution_count": 134,
   "id": "80897bdc",
   "metadata": {},
   "outputs": [],
   "source": [
    "grades = np.random.randint(60, 101, 12).reshape(4, 3)"
   ]
  },
  {
   "cell_type": "code",
   "execution_count": 135,
   "id": "722ac349",
   "metadata": {},
   "outputs": [
    {
     "data": {
      "text/plain": [
       "array([[92, 71, 98],\n",
       "       [62, 63, 92],\n",
       "       [64, 86, 86],\n",
       "       [98, 87, 71]], dtype=int32)"
      ]
     },
     "execution_count": 135,
     "metadata": {},
     "output_type": "execute_result"
    }
   ],
   "source": [
    "grades"
   ]
  },
  {
   "cell_type": "code",
   "execution_count": 136,
   "id": "93aecb71",
   "metadata": {},
   "outputs": [
    {
     "data": {
      "text/plain": [
       "array([79.  , 76.75, 86.75])"
      ]
     },
     "execution_count": 136,
     "metadata": {},
     "output_type": "execute_result"
    }
   ],
   "source": [
    "grades.mean(axis=0)"
   ]
  },
  {
   "cell_type": "code",
   "execution_count": 137,
   "id": "cb6928a2",
   "metadata": {},
   "outputs": [
    {
     "data": {
      "text/plain": [
       "array([87.        , 72.33333333, 78.66666667, 85.33333333])"
      ]
     },
     "execution_count": 137,
     "metadata": {},
     "output_type": "execute_result"
    }
   ],
   "source": [
    "grades.mean(axis=1)"
   ]
  },
  {
   "cell_type": "markdown",
   "id": "b9ca3c3b",
   "metadata": {},
   "source": [
    "## Universal Functions"
   ]
  },
  {
   "cell_type": "code",
   "execution_count": 138,
   "id": "3983af2f",
   "metadata": {},
   "outputs": [],
   "source": [
    "numbers = np.array([1, 4, 9, 16, 25, 36])"
   ]
  },
  {
   "cell_type": "code",
   "execution_count": 139,
   "id": "4db83037",
   "metadata": {},
   "outputs": [
    {
     "data": {
      "text/plain": [
       "array([1., 2., 3., 4., 5., 6.])"
      ]
     },
     "execution_count": 139,
     "metadata": {},
     "output_type": "execute_result"
    }
   ],
   "source": [
    "np.sqrt(numbers)"
   ]
  },
  {
   "cell_type": "code",
   "execution_count": 140,
   "id": "24086a03",
   "metadata": {},
   "outputs": [],
   "source": [
    "numbers2 = np.arange(1, 7) *10"
   ]
  },
  {
   "cell_type": "code",
   "execution_count": 141,
   "id": "df2ee3fc",
   "metadata": {},
   "outputs": [
    {
     "data": {
      "text/plain": [
       "array([10, 20, 30, 40, 50, 60])"
      ]
     },
     "execution_count": 141,
     "metadata": {},
     "output_type": "execute_result"
    }
   ],
   "source": [
    "numbers2"
   ]
  },
  {
   "cell_type": "code",
   "execution_count": 142,
   "id": "3c99c2ff",
   "metadata": {},
   "outputs": [
    {
     "data": {
      "text/plain": [
       "array([11, 24, 39, 56, 75, 96])"
      ]
     },
     "execution_count": 142,
     "metadata": {},
     "output_type": "execute_result"
    }
   ],
   "source": [
    "np.add(numbers, numbers2)"
   ]
  },
  {
   "cell_type": "markdown",
   "id": "8a3e310b",
   "metadata": {},
   "source": [
    "### Broadcasting with Universal Functions"
   ]
  },
  {
   "cell_type": "code",
   "execution_count": 143,
   "id": "561254b4",
   "metadata": {},
   "outputs": [
    {
     "data": {
      "text/plain": [
       "array([ 50, 100, 150, 200, 250, 300])"
      ]
     },
     "execution_count": 143,
     "metadata": {},
     "output_type": "execute_result"
    }
   ],
   "source": [
    "np.multiply(numbers2, 5)"
   ]
  },
  {
   "cell_type": "code",
   "execution_count": 144,
   "id": "4229d722",
   "metadata": {},
   "outputs": [],
   "source": [
    "numbers3 = numbers2.reshape(2, 3)"
   ]
  },
  {
   "cell_type": "code",
   "execution_count": 145,
   "id": "e67bdbb8",
   "metadata": {},
   "outputs": [
    {
     "data": {
      "text/plain": [
       "array([[10, 20, 30],\n",
       "       [40, 50, 60]])"
      ]
     },
     "execution_count": 145,
     "metadata": {},
     "output_type": "execute_result"
    }
   ],
   "source": [
    "numbers3"
   ]
  },
  {
   "cell_type": "code",
   "execution_count": 146,
   "id": "ec15cbb6",
   "metadata": {},
   "outputs": [],
   "source": [
    "numbers4 = np.array([2, 4, 6])"
   ]
  },
  {
   "cell_type": "code",
   "execution_count": 147,
   "id": "452d2f8c",
   "metadata": {},
   "outputs": [
    {
     "data": {
      "text/plain": [
       "array([[ 20,  80, 180],\n",
       "       [ 80, 200, 360]])"
      ]
     },
     "execution_count": 147,
     "metadata": {},
     "output_type": "execute_result"
    }
   ],
   "source": [
    "np.multiply(numbers3, numbers4)"
   ]
  },
  {
   "cell_type": "code",
   "execution_count": 149,
   "id": "37c4cd9b",
   "metadata": {},
   "outputs": [],
   "source": [
    "selfcheck2 = np.arange(1, 6) ** 3"
   ]
  },
  {
   "cell_type": "code",
   "execution_count": 150,
   "id": "e60bb880",
   "metadata": {},
   "outputs": [
    {
     "data": {
      "text/plain": [
       "array([  1,   8,  27,  64, 125])"
      ]
     },
     "execution_count": 150,
     "metadata": {},
     "output_type": "execute_result"
    }
   ],
   "source": [
    "selfcheck2"
   ]
  },
  {
   "cell_type": "markdown",
   "id": "a8ba9393",
   "metadata": {},
   "source": [
    "## Indexing and Slicing"
   ]
  },
  {
   "cell_type": "markdown",
   "id": "83c416ce",
   "metadata": {},
   "source": [
    "### Indexing with 2D Arrays"
   ]
  },
  {
   "cell_type": "code",
   "execution_count": 151,
   "id": "80a9e60b",
   "metadata": {},
   "outputs": [],
   "source": [
    "grades = np.array([[87, 96, 70], [100, 87, 90], [94, 77, 90], [100, 81, 82]])"
   ]
  },
  {
   "cell_type": "code",
   "execution_count": 152,
   "id": "ad909ac5",
   "metadata": {},
   "outputs": [
    {
     "data": {
      "text/plain": [
       "array([[ 87,  96,  70],\n",
       "       [100,  87,  90],\n",
       "       [ 94,  77,  90],\n",
       "       [100,  81,  82]])"
      ]
     },
     "execution_count": 152,
     "metadata": {},
     "output_type": "execute_result"
    }
   ],
   "source": [
    "grades"
   ]
  },
  {
   "cell_type": "code",
   "execution_count": 153,
   "id": "4fc1b1e0",
   "metadata": {},
   "outputs": [
    {
     "data": {
      "text/plain": [
       "np.int64(96)"
      ]
     },
     "execution_count": 153,
     "metadata": {},
     "output_type": "execute_result"
    }
   ],
   "source": [
    "grades[0, 1]"
   ]
  },
  {
   "cell_type": "markdown",
   "id": "48563565",
   "metadata": {},
   "source": [
    "### Selecting a Subset of a 2D Array's Rows"
   ]
  },
  {
   "cell_type": "code",
   "execution_count": 155,
   "id": "941a3af5",
   "metadata": {},
   "outputs": [
    {
     "data": {
      "text/plain": [
       "array([100,  87,  90])"
      ]
     },
     "execution_count": 155,
     "metadata": {},
     "output_type": "execute_result"
    }
   ],
   "source": [
    "grades[1]"
   ]
  },
  {
   "cell_type": "code",
   "execution_count": 156,
   "id": "c9b52eb3",
   "metadata": {},
   "outputs": [
    {
     "data": {
      "text/plain": [
       "array([[ 87,  96,  70],\n",
       "       [100,  87,  90]])"
      ]
     },
     "execution_count": 156,
     "metadata": {},
     "output_type": "execute_result"
    }
   ],
   "source": [
    "grades[0: 2]"
   ]
  },
  {
   "cell_type": "code",
   "execution_count": 157,
   "id": "efd3a9ef",
   "metadata": {},
   "outputs": [
    {
     "data": {
      "text/plain": [
       "array([[100,  87,  90],\n",
       "       [ 94,  77,  90]])"
      ]
     },
     "execution_count": 157,
     "metadata": {},
     "output_type": "execute_result"
    }
   ],
   "source": [
    "grades[1: 3]"
   ]
  },
  {
   "cell_type": "markdown",
   "id": "126b3d22",
   "metadata": {},
   "source": [
    "### Selecting a Subset of a 2D Array's Columns"
   ]
  },
  {
   "cell_type": "code",
   "execution_count": 159,
   "id": "0d5f713b",
   "metadata": {},
   "outputs": [
    {
     "data": {
      "text/plain": [
       "array([ 87, 100,  94, 100])"
      ]
     },
     "execution_count": 159,
     "metadata": {},
     "output_type": "execute_result"
    }
   ],
   "source": [
    "grades[:, 0]\n",
    "\n",
    "# the colon : is a slice representing ALL ROWS"
   ]
  },
  {
   "cell_type": "code",
   "execution_count": 160,
   "id": "579be7c6",
   "metadata": {},
   "outputs": [
    {
     "data": {
      "text/plain": [
       "array([[96, 70],\n",
       "       [87, 90],\n",
       "       [77, 90],\n",
       "       [81, 82]])"
      ]
     },
     "execution_count": 160,
     "metadata": {},
     "output_type": "execute_result"
    }
   ],
   "source": [
    "grades[:, 1:3]"
   ]
  },
  {
   "cell_type": "code",
   "execution_count": 161,
   "id": "b84304ef",
   "metadata": {},
   "outputs": [
    {
     "data": {
      "text/plain": [
       "array([[ 87,  70],\n",
       "       [100,  90],\n",
       "       [ 94,  90],\n",
       "       [100,  82]])"
      ]
     },
     "execution_count": 161,
     "metadata": {},
     "output_type": "execute_result"
    }
   ],
   "source": [
    "grades[:, [0,2]]"
   ]
  },
  {
   "cell_type": "markdown",
   "id": "27a0dc3b",
   "metadata": {},
   "source": [
    "## Views: Shallow Copies"
   ]
  }
 ],
 "metadata": {
  "kernelspec": {
   "display_name": ".venv (3.13.7)",
   "language": "python",
   "name": "python3"
  },
  "language_info": {
   "codemirror_mode": {
    "name": "ipython",
    "version": 3
   },
   "file_extension": ".py",
   "mimetype": "text/x-python",
   "name": "python",
   "nbconvert_exporter": "python",
   "pygments_lexer": "ipython3",
   "version": "3.13.7"
  }
 },
 "nbformat": 4,
 "nbformat_minor": 5
}
