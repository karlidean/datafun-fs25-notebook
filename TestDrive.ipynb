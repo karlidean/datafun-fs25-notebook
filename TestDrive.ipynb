{
 "cells": [
  {
   "cell_type": "markdown",
   "id": "4b5ccdba",
   "metadata": {},
   "source": [
    "# This Jupyter Notebook covers Chapter 1 - Section 10.3 in the textbook for Data Fundamentals "
   ]
  },
  {
   "cell_type": "code",
   "execution_count": 1,
   "id": "fb60bdc5",
   "metadata": {},
   "outputs": [
    {
     "data": {
      "text/plain": [
       "117"
      ]
     },
     "execution_count": 1,
     "metadata": {},
     "output_type": "execute_result"
    }
   ],
   "source": [
    "45 +72"
   ]
  },
  {
   "cell_type": "code",
   "execution_count": 2,
   "id": "6a94f3f7",
   "metadata": {},
   "outputs": [
    {
     "data": {
      "text/plain": [
       "21.75"
      ]
     },
     "execution_count": 2,
     "metadata": {},
     "output_type": "execute_result"
    }
   ],
   "source": [
    "5 * (12.7 - 4) / 2"
   ]
  },
  {
   "cell_type": "code",
   "execution_count": 3,
   "id": "adafc84b",
   "metadata": {},
   "outputs": [
    {
     "data": {
      "text/plain": [
       "35"
      ]
     },
     "execution_count": 3,
     "metadata": {},
     "output_type": "execute_result"
    }
   ],
   "source": [
    "5 * (3+4)"
   ]
  },
  {
   "cell_type": "code",
   "execution_count": 4,
   "id": "5fa57866",
   "metadata": {},
   "outputs": [
    {
     "data": {
      "text/plain": [
       "19"
      ]
     },
     "execution_count": 4,
     "metadata": {},
     "output_type": "execute_result"
    }
   ],
   "source": [
    "5 * 3 + 4"
   ]
  }
 ],
 "metadata": {
  "kernelspec": {
   "display_name": ".venv (3.13.7)",
   "language": "python",
   "name": "python3"
  },
  "language_info": {
   "codemirror_mode": {
    "name": "ipython",
    "version": 3
   },
   "file_extension": ".py",
   "mimetype": "text/x-python",
   "name": "python",
   "nbconvert_exporter": "python",
   "pygments_lexer": "ipython3",
   "version": "3.13.7"
  }
 },
 "nbformat": 4,
 "nbformat_minor": 5
}
